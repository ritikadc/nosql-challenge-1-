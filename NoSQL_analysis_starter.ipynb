{
 "cells": [
  {
   "cell_type": "markdown",
   "id": "9a57c4c6",
   "metadata": {},
   "source": [
    "# Eat Safe, Love"
   ]
  },
  {
   "cell_type": "markdown",
   "id": "064ef857",
   "metadata": {},
   "source": [
    "## Notebook Set Up"
   ]
  },
  {
   "cell_type": "code",
   "execution_count": null,
   "id": "3ecdd008",
   "metadata": {},
   "outputs": [],
   "source": [
    "from pymongo import MongoClient\n",
    "import pandas as pd\n",
    "from pprint import pprint"
   ]
  },
  {
   "cell_type": "code",
   "execution_count": null,
   "id": "59390c4a",
   "metadata": {},
   "outputs": [],
   "source": [
    "# Create an instance of MongoClient\n",
    "mongo = MongoClient(port=27017)"
   ]
  },
  {
   "cell_type": "code",
   "execution_count": null,
   "id": "71e373c1",
   "metadata": {},
   "outputs": [],
   "source": [
    "# assign the uk_food database to a variable name\n",
    "db = mongo['uk_food']"
   ]
  },
  {
   "cell_type": "code",
   "execution_count": null,
   "id": "18ab463c",
   "metadata": {},
   "outputs": [],
   "source": [
    "# review the collections in our database\n"
collections = db.list_collection_names()
   ]
  },
  {
   "cell_type": "code",
   "execution_count": null,
   "id": "11c9f11b",
   "metadata": {},
   "outputs": [],
   "source": [
    "# assign the collection to a variable\n",
    "establishments = db['establishments']"

query = {
    "BusinessType": "Restaurant/Cafe/Canteen"
}

projection = {
    "BusinessTypeID": 1,
    "BusinessType": 1,
    "_id": 0
}
query = {"BusinessType": "Restaurant/Cafe/Canteen"}
projection = {"BusinessTypeID":  1, "_id":0}

business_type_id_doc = establishments.find_one(query, projection)
if business_type_id_doc:
    business_type_id = business_type_id_doc['BusinessTypeID']
    print(f"BusinessTypeID for 'Restaurant/Cafe/Canteen': {business_type_id}")
else:
    print("BusinessTypeID for 'Restaurant/Cafe/Canteen' not found.")
    business_type_id = None
   ]
  },
  {
   "cell_type": "markdown",
   "id": "d5671434",
   "metadata": {},
   "source": [
    "## Part 3: Exploratory Analysis\n",
    "Unless otherwise stated, for each question: \n",
    "* Use `count_documents` to display the number of documents contained in the result.\n",
    "* Display the first document in the results using `pprint`.\n",
    "* Convert the result to a Pandas DataFrame, print the number of rows in the DataFrame, and display the first 10 rows."
   ]
  },
  {
   "cell_type": "markdown",
   "id": "314bd884",
   "metadata": {},
   "source": [
    "### 1. Which establishments have a hygiene score equal to 20?"
   ]
  },
from pprint import pprint  # Importing pprint for pretty printing

# Find the establishments with a hygiene score of 20
query = {"hygiene": 20}

# Use count_documents to display the number of documents in the result
count = establishments_collection.count_documents(query)
print("Number of establishments with a hygiene score of 20:", count)

# Find and print the first document in the results
first_document = establishments_collection.find_one(query)
if first_document:
    pprint(first_document)
else:
    print("No document found with a hygiene score of 20")
  {
   "cell_type": "code",
   "execution_count": null,
   "id": "c2da7648",
   "metadata": {},
   "outputs": [],
   "source": [
    "# Find the establishments with a hygiene score of 20\n",
    "query =\n",
    "\n",
    "# Use count_documents to display the number of documents in the result\n",
    "\n",
    "# Display the first document in the results using pprint\n"
   ]
  },
  {
   "cell_type": "code",
   "execution_count": null,
   "id": "a6e5cece",
   "metadata": {},
   "outputs": [],
   "source": [
    "# Convert the result to a Pandas DataFrame\n",
if first_document:
    df = pd.DataFrame.from_dict(first_document, orient='index').T
    print("DataFrame from MongoDB document:")
    print(df)

    # Display the number of rows in the DataFrame
    num_rows = df.shape[0]
    print(f"Number of rows in DataFrame: {num_rows}")

    # Display the first 10 rows of the DataFrame
    print("First 10 rows of the DataFrame:")
    print(df.head(10))
else:
    print("No document found with a hygiene score of 20")
    "\n",
    "# Display the number of rows in the DataFrame\n",
    "\n",
    "# Display the first 10 rows of the DataFrame\n"
   ]
  },
  {
   "cell_type": "markdown",
   "id": "0ef4395a",
   "metadata": {},
   "source": [
    "### 2. Which establishments in London have a `RatingValue` greater than or equal to 4?"
   ]

  {
   "cell_type": "code",
   "execution_count": null,
   "id": "93c63829",
   "metadata": {},
   "outputs": [],
   "source": [
    "# Find the establishments with London as the Local Authority and has a RatingValue greater than or equal to 4.\n",
query = query = {'LocalAuthorityName': {'$regex':'London'}, 'RatingValue': {'$gte': 4}}

# Use count_documents to display the number of documents in the result
num_documents = establishments_collection.count_documents(query)
print(f"Number of establishments in London with RatingValue >= 4: {num_documents}")

# Display the first document in the results using pprint
first_document = establishments_collection.find_one(query)
if first_document:
    print("First document in the results:")
    pprint(first_document)
else:
    print("No document found with the given criteria")
    "query =\n"
    "#
    "\n",
    
  },
  {
   "cell_type": "code",
   "execution_count": null,
   "id": "07e24ccb",
   "metadata": {},
   "outputs": [],
   "source": [
    "# Convert the result to a Pandas DataFrame\n",
df = pd.DataFrame([first_document])

    "\n",
    "# Display the number of rows in the DataFrame\n",
    "\n",
num_rows = df.shape[0]
print(f"Number of rows in the DataFrame: {num_rows}")

    "# Display the first 10 rows of the DataFrame\n"
print("First 10 rows of the DataFrame:")
print(df.head(10))
   ]
  },
  {
   "attachments": {},
   "cell_type": "markdown",
   "id": "4e570caf",
   "metadata": {},
   "source": [
    "### 3. What are the top 5 establishments with a `RatingValue` rating value of 5, sorted by lowest hygiene score, nearest to the new restaurant added, \"Penang Flavours\"?"
   ]
  },
  {
   "cell_type": "code",
   "execution_count": null,
   "id": "7f599f3d",
   "metadata": {},
   "outputs": [],
   "source": [
    "# Search within 0.01 degree on either side of the latitude and longitude.\n",
    "# Rating value must equal 5\n",
    "# Sort by hygiene score\n",
degree_search = 0.01
latitude = 51.5074
longitude = -0.1278

query = {'geocode.latitude': {'$gte':latitude-degree_search, '$lte':latitude+degree_search},
         'geocode.longitude': {'$gte': longitude-degree_search, '$lte': longitude+degree_search},
         'RatingValue': 5}
sort = [('scores.Hygiene', 1)]
limit = 5
    "\n",
    "degree_search = 0.01\n",
    "latitude =\n",
    "longitude =\n",
    "\n",
    "query =\n",
    "sort =\n",
    "limit =\n",
    "\n",
    "# Print the results\n"
   ]
pprint(list(establishments.find(query).sort(sort).limit(limit)))
  },
  {
   "cell_type": "code",
   "execution_count": null,
   "id": "a6ad16f7",
   "metadata": {},
   "outputs": [],
   "source": [
    "# Convert result to Pandas DataFrame\n"
print("DataFrame from MongoDB query results:")
print(df)
   ]
  },
  {
   "cell_type": "markdown",
   "id": "67281254",
   "metadata": {},
   "source": [
    "### 4. How many establishments in each Local Authority area have a hygiene score of 0?"
   ]
# Define the aggregation pipeline
pipeline = [
    {
        '$match': {
            'scores.Hygiene': 0
        }
    },
    {
        '$group': {
            '_id': '$LocalAuthorityName',
            'count': {'$sum': 1}
        }
    },
    {
        '$sort': {
            'count': -1
        }
    }
]
# Execute the pipeline
results = list(establishments.aggregate(pipeline))
# Print the number of documents in the result
num_results = len(results)
print(f"Number of documents in the result: {num_results}")
# Print the first 10 results
for result in results[:10]:
    print(result)
# Correct the query for counting documents
query = {'scores.Hygiene': 0}
# Print the number of documents that match the query
num_documents = establishments.count_documents(query)
print(f"Number of documents with a hygiene score of 0: {num_documents}")
# Retrieve and print the first result of the query
results = list(establishments.find(query))
if results:
    print("First result:")
    print(results[0])
else:
    print("No results found.")
print(db.list_collection_names())
# Convert the result to a Pandas DataFrame
df = pd.DataFrame(results)
print("DataFrame from MongoDB from query results:")
print(df)

# Display the number of rows in the DataFrame
num_rows = df.shape[0]
print(f"Number of rows in DataFrame: {num_rows}")

# Display the first 10 rows of the DataFrame
print("First 10 rows of the DataFrame: ")    
print(df.head(10))
print("No results found.")
  },

  {
   "cell_type": "code",
   "execution_count": null,
   "id": "4eeb227e",
   "metadata": {},
   "outputs": [],
   "source": [
    "# Create a pipeline that:\n",
    "# 1. Matches establishments with a hygiene score of 0\n",
    "# 2. Groups the matches by Local Authority\n",
    "# 3. Sorts the matches from highest to lowest\n",
    "\n",
    "# Print the number of documents in the result\n",
    "\n",
    "# Print the first 10 results\n"
   ]
  },
  {
   "cell_type": "code",
   "execution_count": null,
   "id": "d8aab364",
   "metadata": {},
   "outputs": [],
   "source": [
    "# Convert the result to a Pandas DataFrame\n",
    "\n",
    "# Display the number of rows in the DataFrame\n",
    "\n",
    "# Display the first 10 rows of the DataFrame\n"
   ]
  }
 ],
 "metadata": {
  "kernelspec": {
   "display_name": "Python 3 (ipykernel)",
   "language": "python",
   "name": "python3"
  },
  "language_info": {
   "codemirror_mode": {
    "name": "ipython",
    "version": 3
   },
   "file_extension": ".py",
   "mimetype": "text/x-python",
   "name": "python",
   "nbconvert_exporter": "python",
   "pygments_lexer": "ipython3",
   "version": "3.10.4"
  }
 },
 "nbformat": 4,
 "nbformat_minor": 5
}
